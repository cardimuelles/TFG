{
 "cells": [
  {
   "cell_type": "code",
   "execution_count": 2,
   "metadata": {},
   "outputs": [
    {
     "name": "stdout",
     "output_type": "stream",
     "text": [
      "Model: \"sequential\"\n",
      "_________________________________________________________________\n",
      "Layer (type)                 Output Shape              Param #   \n",
      "=================================================================\n",
      "lstm (LSTM)                  (None, 32)                4352      \n",
      "_________________________________________________________________\n",
      "dense (Dense)                (None, 32)                1056      \n",
      "_________________________________________________________________\n",
      "dense_1 (Dense)              (None, 1)                 33        \n",
      "=================================================================\n",
      "Total params: 5,441\n",
      "Trainable params: 5,441\n",
      "Non-trainable params: 0\n",
      "_________________________________________________________________\n"
     ]
    },
    {
     "name": "stderr",
     "output_type": "stream",
     "text": [
      "Using TensorFlow backend.\n"
     ]
    }
   ],
   "source": [
    "import tensorflow as tf\n",
    "import os\n",
    "import sys\n",
    "import tensorflow as tf\n",
    "import numpy as np\n",
    "import matplotlib\n",
    "matplotlib.use('Agg')\n",
    "import matplotlib.pyplot as plt\n",
    "import pickle\n",
    "from dataShaping import *\n",
    "from savePerf import *\n",
    "import scipy.io.wavfile\n",
    "import time\n",
    "from tensorflow.python.tools import freeze_graph\n",
    "from tensorflow.keras import layers\n",
    "import tensorflow.keras as kr\n",
    "from keras.callbacks import EarlyStopping, ModelCheckpoint\n",
    "import pyaudio\n",
    "import wave\n",
    "import sys\n",
    "\n",
    "\n",
    "json_file = open('model.json', 'r')\n",
    "loaded_model_json = json_file.read()\n",
    "json_file.close()\n",
    "loaded_model = tf.compat.v1.keras.models.model_from_json(loaded_model_json)\n",
    "loaded_model.summary()\n",
    "\n",
    "num_step = 15 \n",
    "features = 1"
   ]
  },
  {
   "cell_type": "code",
   "execution_count": null,
   "metadata": {},
   "outputs": [],
   "source": [
    "#wf = wave.open(sys.argv[1], 'rb') #read audio from audio device\n",
    "CHUNK = 1024\n",
    "form_1 = pyaudio.paInt16 # 16-bit resolution\n",
    "chans = 2 # 2 channel\n",
    "samp_rate = 44100 # 44.1kHz sampling rate\n",
    "chunk = 8192 # 2^12 samples for buffer\n",
    "dev_index = 2 # device index found by p.get_device_info_by_index(ii)\n",
    "p = pyaudio.PyAudio()\n",
    "stream = p.open(format = form_1,rate = samp_rate,channels = chans, \\\n",
    "                    input_device_index = dev_index,input = True, \\\n",
    "                    frames_per_buffer=chunk)\n",
    "data = wf.readframes(CHUNK)\n",
    "data=shapeDataRealTime(data,num_step,features)\n",
    "data = loaded_model.predict(data)\n",
    "while len(data) > 0:\n",
    "    stream.write(data)\n",
    "    data = wf.readframes(CHUNK)\n",
    "\n",
    "# stop stream (4)\n",
    "stream.stop_stream()\n",
    "stream.close()\n",
    "\n",
    "# close PyAudio (5)\n",
    "p.terminate()"
   ]
  },
  {
   "cell_type": "code",
   "execution_count": null,
   "metadata": {},
   "outputs": [],
   "source": []
  }
 ],
 "metadata": {
  "kernelspec": {
   "display_name": "Python 3",
   "language": "python",
   "name": "python3"
  },
  "language_info": {
   "codemirror_mode": {
    "name": "ipython",
    "version": 3
   },
   "file_extension": ".py",
   "mimetype": "text/x-python",
   "name": "python",
   "nbconvert_exporter": "python",
   "pygments_lexer": "ipython3",
   "version": "3.6.9"
  }
 },
 "nbformat": 4,
 "nbformat_minor": 2
}
